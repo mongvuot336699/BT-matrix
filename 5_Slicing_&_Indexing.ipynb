{
  "nbformat": 4,
  "nbformat_minor": 0,
  "metadata": {
    "colab": {
      "name": "5. Slicing & Indexing.ipynb",
      "provenance": [],
      "private_outputs": true,
      "collapsed_sections": [],
      "authorship_tag": "ABX9TyPo2Y0PLmxYW5rh7ZulQVvW",
      "include_colab_link": true
    },
    "kernelspec": {
      "name": "python3",
      "display_name": "Python 3"
    },
    "accelerator": "GPU"
  },
  "cells": [
    {
      "cell_type": "markdown",
      "metadata": {
        "id": "view-in-github",
        "colab_type": "text"
      },
      "source": [
        "<a href=\"https://colab.research.google.com/github/mongvuot336699/BT-matrix/blob/master/5_Slicing_%26_Indexing.ipynb\" target=\"_parent\"><img src=\"https://colab.research.google.com/assets/colab-badge.svg\" alt=\"Open In Colab\"/></a>"
      ]
    },
    {
      "cell_type": "code",
      "metadata": {
        "id": "sQgWbYtO8UKj",
        "colab_type": "code",
        "colab": {}
      },
      "source": [
        "import numpy as np"
      ],
      "execution_count": 0,
      "outputs": []
    },
    {
      "cell_type": "code",
      "metadata": {
        "id": "CGc4x7dd98Tj",
        "colab_type": "code",
        "colab": {}
      },
      "source": [
        "arr = np.array(range(100)).reshape((10,10))"
      ],
      "execution_count": 0,
      "outputs": []
    },
    {
      "cell_type": "code",
      "metadata": {
        "id": "VTLNS6Zi-HWb",
        "colab_type": "code",
        "colab": {}
      },
      "source": [
        "print(arr[5][5])\n",
        "print(arr[5,5])"
      ],
      "execution_count": 0,
      "outputs": []
    },
    {
      "cell_type": "code",
      "metadata": {
        "id": "Jt1xN-e9-ZDP",
        "colab_type": "code",
        "colab": {}
      },
      "source": [
        "# indexing with slicing\n",
        "print(arr[1:3,4:6])"
      ],
      "execution_count": 0,
      "outputs": []
    },
    {
      "cell_type": "code",
      "metadata": {
        "id": "szLhM4kQ-hjn",
        "colab_type": "code",
        "colab": {}
      },
      "source": [
        "arr = np.array(range(16)).reshape(2,2,2,2)\n",
        "print(arr[0, ...]) # = arr[0,:,:,:]"
      ],
      "execution_count": 0,
      "outputs": []
    },
    {
      "cell_type": "code",
      "metadata": {
        "id": "r5Q84SrU_JLd",
        "colab_type": "code",
        "colab": {}
      },
      "source": [
        "# assign a scalar to a slice by broadcasting\n",
        "\n",
        "arr[1:3,:]= 100\n",
        "print(arr)"
      ],
      "execution_count": 0,
      "outputs": []
    },
    {
      "cell_type": "code",
      "metadata": {
        "id": "ngBByuP2DQaY",
        "colab_type": "code",
        "colab": {}
      },
      "source": [
        "# boolean indexing\n",
        "arr1 = np.arange(25).reshape((5,5)) # arange = array(range(25))\n",
        "bools = np.array([True,True,False,True,False])\n",
        "print(arr1[bools])"
      ],
      "execution_count": 0,
      "outputs": []
    },
    {
      "cell_type": "code",
      "metadata": {
        "id": "46I__PrpD6D5",
        "colab_type": "code",
        "colab": {}
      },
      "source": [
        "# negate the condition (cac gia tri nguoc lai True la Falsse\n",
        "print(arr1[~bools]) # them dau ~"
      ],
      "execution_count": 0,
      "outputs": []
    },
    {
      "cell_type": "code",
      "metadata": {
        "id": "HioZCL9rEK85",
        "colab_type": "code",
        "colab": {}
      },
      "source": [
        "arr2 = np.array([1,2,3,4,5])\n",
        "# mutiple conditions\n",
        "print(arr1[(arr2<2)|(arr2>4)])\n",
        "print(arr1[(arr2==3)|(arr2==1)]) # and is & "
      ],
      "execution_count": 0,
      "outputs": []
    },
    {
      "cell_type": "code",
      "metadata": {
        "id": "l1yfbIccFkNE",
        "colab_type": "code",
        "colab": {}
      },
      "source": [
        "# fancy indexing \n",
        " arr = np.arange(16).reshape((4,4))"
      ],
      "execution_count": 0,
      "outputs": []
    },
    {
      "cell_type": "code",
      "metadata": {
        "id": "8QF13HQQFsVo",
        "colab_type": "code",
        "colab": {}
      },
      "source": [
        "# select arr[3,3], arr[1,2],arr[2,1]\n",
        "print(arr[[3,1,2],[3,2,1]]) # [] for row, [] for column\n",
        "#   (0  1  2  3 \n",
        "  #  4  5  6  7 \n",
        "  #  8  9 10  11\n",
        "  # 12 13 14 15)"
      ],
      "execution_count": 0,
      "outputs": []
    },
    {
      "cell_type": "code",
      "metadata": {
        "id": "nACWwO6YHQWT",
        "colab_type": "code",
        "colab": {}
      },
      "source": [
        "# select row 3,1,2 and columns 0,1,3\n",
        "print(arr[[3,1,2]][:,[0,1,3]])"
      ],
      "execution_count": 0,
      "outputs": []
    },
    {
      "cell_type": "code",
      "metadata": {
        "id": "DnTpocrHIL4L",
        "colab_type": "code",
        "colab": {}
      },
      "source": [
        ""
      ],
      "execution_count": 0,
      "outputs": []
    }
  ]
}