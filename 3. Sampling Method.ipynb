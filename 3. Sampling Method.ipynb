{
 "cells": [
  {
   "cell_type": "code",
   "execution_count": 2,
   "metadata": {},
   "outputs": [],
   "source": [
    "import numpy as np"
   ]
  },
  {
   "cell_type": "code",
   "execution_count": 4,
   "metadata": {},
   "outputs": [],
   "source": [
    "# set seed\n",
    "np.random.seed(123)"
   ]
  },
  {
   "cell_type": "code",
   "execution_count": 6,
   "metadata": {},
   "outputs": [
    {
     "data": {
      "text/plain": [
       "array([0.88594794, 0.07791236, 0.97964616, 0.24767146, 0.75288472,\n",
       "       0.52667564, 0.90755375, 0.8840703 , 0.08926896, 0.5173446 ])"
      ]
     },
     "execution_count": 6,
     "metadata": {},
     "output_type": "execute_result"
    }
   ],
   "source": [
    "# set random state which is independent from the global seed\n",
    "rs = np.random.RandomState(321)\n",
    "rs.rand(10)"
   ]
  },
  {
   "cell_type": "markdown",
   "metadata": {},
   "source": [
    "<h4>generate a random sample from interval [0,1) in given shape</h4>"
   ]
  },
  {
   "cell_type": "code",
   "execution_count": 10,
   "metadata": {},
   "outputs": [
    {
     "name": "stdout",
     "output_type": "stream",
     "text": [
      "0.5513147690828912\n",
      "0.7194689697855631\n"
     ]
    }
   ],
   "source": [
    "# generate a random scalar\n",
    "print(np.random.rand())\n",
    "print(np.random.rand())"
   ]
  },
  {
   "cell_type": "code",
   "execution_count": 12,
   "metadata": {},
   "outputs": [
    {
     "name": "stdout",
     "output_type": "stream",
     "text": [
      "[0.4809319  0.39211752 0.34317802]\n"
     ]
    }
   ],
   "source": [
    "# random 1-D array\n",
    "print(np.random.rand(3))"
   ]
  },
  {
   "cell_type": "code",
   "execution_count": 14,
   "metadata": {},
   "outputs": [
    {
     "name": "stdout",
     "output_type": "stream",
     "text": [
      "[[0.53182759 0.63440096 0.84943179 0.72445532]\n",
      " [0.61102351 0.72244338 0.32295891 0.36178866]]\n"
     ]
    }
   ],
   "source": [
    "# 2-D\n",
    "print(np.random.rand(2,4))\n"
   ]
  },
  {
   "cell_type": "code",
   "execution_count": 16,
   "metadata": {},
   "outputs": [
    {
     "name": "stdout",
     "output_type": "stream",
     "text": [
      "[[-1.77413406  2.36160126  0.03499308]\n",
      " [-0.34464169 -0.72503229  1.03960617]\n",
      " [-0.24172804 -0.11290536 -1.66069578]]\n"
     ]
    }
   ],
   "source": [
    "# hien thi phan phoi chuan \n",
    "print(np.random.randn(3,3))"
   ]
  },
  {
   "cell_type": "code",
   "execution_count": 19,
   "metadata": {},
   "outputs": [
    {
     "name": "stdout",
     "output_type": "stream",
     "text": [
      "[ 5  5 13  9 11]\n"
     ]
    }
   ],
   "source": [
    "# np.random.randint(low,high,size,dtype)\n",
    "print(np.random.randint(2,20,5,\"i8\"))"
   ]
  },
  {
   "cell_type": "code",
   "execution_count": 21,
   "metadata": {},
   "outputs": [
    {
     "name": "stdout",
     "output_type": "stream",
     "text": [
      "[0.02942373 0.55204372 0.2402475  0.88480501 0.46023842 0.19317033\n",
      " 0.2936925  0.81792751 0.55948738 0.67792545]\n",
      "[0.80912668 0.86857215 0.41799246 0.05893816 0.478459   0.52115943\n",
      " 0.58063202 0.309199   0.91988263 0.6553475 ]\n",
      "[0.34924138 0.54109404 0.4490534  0.28232096 0.29587653 0.56348098\n",
      " 0.71519128 0.51761868 0.35204183 0.63277886]\n",
      "[0.87311902 0.16788844 0.98747832 0.34941493 0.82620513 0.06546154\n",
      " 0.00535329 0.88694465 0.91131813 0.19940777]\n"
     ]
    }
   ],
   "source": [
    "# float\n",
    "print(np.random.random_sample(10))\n",
    "print(np.random.random(10))\n",
    "print(np.random.ranf(10))\n",
    "print(np.random.sample(10))\n",
    "# same as np.random.rand()"
   ]
  },
  {
   "cell_type": "code",
   "execution_count": 31,
   "metadata": {},
   "outputs": [
    {
     "name": "stdout",
     "output_type": "stream",
     "text": [
      "[1 1 0 1 1 1 1 1 1 1]\n"
     ]
    }
   ],
   "source": [
    "# # np.random.choice(iterable_or_int, size, replace=True, p=weights)\n",
    "print(np.random.choice(range(3), 10 ,replace = True, p =[0.1,0.8,0.1]))\n",
    "# chua hieu p = weights ?"
   ]
  },
  {
   "cell_type": "code",
   "execution_count": 34,
   "metadata": {},
   "outputs": [
    {
     "name": "stdout",
     "output_type": "stream",
     "text": [
      "[2 0 2 1 1 2 2 0 1 0]\n"
     ]
    }
   ],
   "source": [
    "print(np.random.choice(3,10))"
   ]
  },
  {
   "cell_type": "code",
   "execution_count": 36,
   "metadata": {},
   "outputs": [
    {
     "name": "stdout",
     "output_type": "stream",
     "text": [
      "[0 1 6 6 6 6 6 1 6 0]\n"
     ]
    }
   ],
   "source": [
    "print(np.random.choice([1,0,6],10))"
   ]
  },
  {
   "cell_type": "code",
   "execution_count": 39,
   "metadata": {},
   "outputs": [
    {
     "name": "stdout",
     "output_type": "stream",
     "text": [
      "[0 1 2 3 4 5 6 7 8 9]\n"
     ]
    }
   ],
   "source": [
    "# shuffle array\n",
    "a = np.array(range(10))\n",
    "print(a)"
   ]
  },
  {
   "cell_type": "code",
   "execution_count": 41,
   "metadata": {},
   "outputs": [
    {
     "name": "stdout",
     "output_type": "stream",
     "text": [
      "[5 2 6 3 0 4 1 7 9 8]\n"
     ]
    }
   ],
   "source": [
    "np.random.shuffle(a)\n",
    "print(a)"
   ]
  },
  {
   "cell_type": "code",
   "execution_count": 47,
   "metadata": {},
   "outputs": [
    {
     "name": "stdout",
     "output_type": "stream",
     "text": [
      "[0 1 2 3 4 5 6 7 8 9]\n",
      "day la copy xong shuffle cua b [9 2 1 6 3 7 4 0 8 5]\n"
     ]
    }
   ],
   "source": [
    "# similar to np.random.shuffle(), but it returns a copy rather than making changes in place\n",
    "b = np.array(range(10))\n",
    "c = np.random.permutation((b))\n",
    "print(b)\n",
    "print(f\"day la copy xong shuffle cua b {c}\" )"
   ]
  }
 ],
 "metadata": {
  "kernelspec": {
   "display_name": "Python 3.7.4 32-bit",
   "language": "python",
   "name": "python37432bit93a5ce092f094316806a9dec9f6b8716"
  },
  "language_info": {
   "codemirror_mode": {
    "name": "ipython",
    "version": 3
   },
   "file_extension": ".py",
   "mimetype": "text/x-python",
   "name": "python",
   "nbconvert_exporter": "python",
   "pygments_lexer": "ipython3",
   "version": "3.7.4"
  }
 },
 "nbformat": 4,
 "nbformat_minor": 4
}
