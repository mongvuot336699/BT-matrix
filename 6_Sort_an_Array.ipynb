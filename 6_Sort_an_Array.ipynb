{
  "nbformat": 4,
  "nbformat_minor": 0,
  "metadata": {
    "colab": {
      "name": "6. Sort an Array.ipynb",
      "provenance": [],
      "private_outputs": true,
      "authorship_tag": "ABX9TyMEkvnSQS83Ct93DLnIef1x",
      "include_colab_link": true
    },
    "kernelspec": {
      "name": "python3",
      "display_name": "Python 3"
    },
    "accelerator": "GPU"
  },
  "cells": [
    {
      "cell_type": "markdown",
      "metadata": {
        "id": "view-in-github",
        "colab_type": "text"
      },
      "source": [
        "<a href=\"https://colab.research.google.com/github/mongvuot336699/BT-matrix/blob/master/6_Sort_an_Array.ipynb\" target=\"_parent\"><img src=\"https://colab.research.google.com/assets/colab-badge.svg\" alt=\"Open In Colab\"/></a>"
      ]
    },
    {
      "cell_type": "code",
      "metadata": {
        "id": "_cMOIlzhtCTI",
        "colab_type": "code",
        "colab": {}
      },
      "source": [
        "import numpy as np"
      ],
      "execution_count": 0,
      "outputs": []
    },
    {
      "cell_type": "code",
      "metadata": {
        "id": "f4jF-nlMtdAa",
        "colab_type": "code",
        "colab": {}
      },
      "source": [
        "a = np.random.rand(5,5)"
      ],
      "execution_count": 0,
      "outputs": []
    },
    {
      "cell_type": "code",
      "metadata": {
        "id": "F6e2xhlotlme",
        "colab_type": "code",
        "colab": {}
      },
      "source": [
        "print(np.sort(a,axis=1))"
      ],
      "execution_count": 0,
      "outputs": []
    },
    {
      "cell_type": "code",
      "metadata": {
        "id": "S7q-v0VUtxK8",
        "colab_type": "code",
        "colab": {}
      },
      "source": [
        "a.sort(axis = 0)\n",
        "print(a)"
      ],
      "execution_count": 0,
      "outputs": []
    },
    {
      "cell_type": "code",
      "metadata": {
        "id": "AIA5pHLBt9sB",
        "colab_type": "code",
        "colab": {}
      },
      "source": [
        "# sort cac so trong matrix , roi hien thi index cac so trong maxtrix\n",
        "b = np.random.rand(4,4)\n",
        "print(b)\n",
        "print(np.argsort(b,axis=0))\n",
        "print('--------')\n",
        "print(np.argsort(b,axis=1))\n",
        "print('--------')\n",
        "print(np.argsort(b,axis= None))"
      ],
      "execution_count": 0,
      "outputs": []
    }
  ]
}