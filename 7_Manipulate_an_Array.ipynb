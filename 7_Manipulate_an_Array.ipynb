{
  "nbformat": 4,
  "nbformat_minor": 0,
  "metadata": {
    "colab": {
      "name": "7. Manipulate an Array.ipynb",
      "provenance": [],
      "private_outputs": true,
      "authorship_tag": "ABX9TyMAA35Vap+1EVeFP0tGviCU",
      "include_colab_link": true
    },
    "kernelspec": {
      "name": "python3",
      "display_name": "Python 3"
    },
    "accelerator": "GPU"
  },
  "cells": [
    {
      "cell_type": "markdown",
      "metadata": {
        "id": "view-in-github",
        "colab_type": "text"
      },
      "source": [
        "<a href=\"https://colab.research.google.com/github/mongvuot336699/BT-matrix/blob/master/7_Manipulate_an_Array.ipynb\" target=\"_parent\"><img src=\"https://colab.research.google.com/assets/colab-badge.svg\" alt=\"Open In Colab\"/></a>"
      ]
    },
    {
      "cell_type": "code",
      "metadata": {
        "id": "Sz_7ImRsxv8g",
        "colab_type": "code",
        "colab": {}
      },
      "source": [
        "import numpy as np"
      ],
      "execution_count": 0,
      "outputs": []
    },
    {
      "cell_type": "code",
      "metadata": {
        "id": "MUKtgwYUyEYo",
        "colab_type": "code",
        "colab": {}
      },
      "source": [
        "a = np.random.rand(3,4)"
      ],
      "execution_count": 0,
      "outputs": []
    },
    {
      "cell_type": "code",
      "metadata": {
        "id": "Ub_yTQfayISV",
        "colab_type": "code",
        "colab": {}
      },
      "source": [
        "# transpose an array\n",
        "print(a.T)\n",
        "# or \n",
        "print(np.transpose(a))\n",
        "# or \n",
        "print(a.transpose())"
      ],
      "execution_count": 0,
      "outputs": []
    },
    {
      "cell_type": "code",
      "metadata": {
        "id": "tgo46IhxyaGH",
        "colab_type": "code",
        "colab": {}
      },
      "source": [
        "# transpose of a high dimensional array with specified order of axes\n",
        "a1 = np.arange(16).reshape((2,2,4))\n",
        "print(a1)\n",
        "\n",
        "a1.transpose(1,0,2)\n",
        "print(a1)"
      ],
      "execution_count": 0,
      "outputs": []
    },
    {
      "cell_type": "code",
      "metadata": {
        "id": "5sQqEVc-zZD4",
        "colab_type": "code",
        "colab": {}
      },
      "source": [
        "a1 = np.arange(16).reshape((2,2,4)) \n",
        "print(a1.swapaxes(0,2))"
      ],
      "execution_count": 0,
      "outputs": []
    },
    {
      "cell_type": "code",
      "metadata": {
        "id": "EYX_J55g5HB0",
        "colab_type": "code",
        "colab": {}
      },
      "source": [
        "# change the shape of an array\n",
        "a.reshape((2,6))"
      ],
      "execution_count": 0,
      "outputs": []
    },
    {
      "cell_type": "code",
      "metadata": {
        "id": "jCw5-VZ45cGu",
        "colab_type": "code",
        "colab": {}
      },
      "source": [
        "# flatten an array\n",
        "a.flatten()\n",
        "# return a copy"
      ],
      "execution_count": 0,
      "outputs": []
    },
    {
      "cell_type": "code",
      "metadata": {
        "id": "dJBpvK4S5mKw",
        "colab_type": "code",
        "colab": {}
      },
      "source": [
        "# append elements to an array\n",
        "a3 = np.array([1,2,3])\n",
        "a4 = np.append(a3,[4,5])\n",
        "print(a4)\n"
      ],
      "execution_count": 0,
      "outputs": []
    },
    {
      "cell_type": "code",
      "metadata": {
        "id": "ihV-droO6Z7e",
        "colab_type": "code",
        "colab": {}
      },
      "source": [
        "# insert elements into an array\n",
        "b1 = np.insert(a3,0,100)\n",
        "b2 = np.insert(a3,-1,99) # vi tri cu trong array a3   \n",
        "print(b1)\n",
        "print(b2)"
      ],
      "execution_count": 0,
      "outputs": []
    },
    {
      "cell_type": "code",
      "metadata": {
        "id": "auKaTwsE71q5",
        "colab_type": "code",
        "colab": {}
      },
      "source": [
        "# delete elements from an array\n",
        "c = np.delete(a3,0)\n",
        "print(c)"
      ],
      "execution_count": 0,
      "outputs": []
    }
  ]
}