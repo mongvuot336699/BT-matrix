{
  "nbformat": 4,
  "nbformat_minor": 0,
  "metadata": {
    "colab": {
      "name": "8. Combine & Split an Array.ipynb",
      "provenance": [],
      "authorship_tag": "ABX9TyMrywORRtht7TBQlUd9WL/W",
      "include_colab_link": true
    },
    "kernelspec": {
      "name": "python3",
      "display_name": "Python 3"
    },
    "accelerator": "GPU"
  },
  "cells": [
    {
      "cell_type": "markdown",
      "metadata": {
        "id": "view-in-github",
        "colab_type": "text"
      },
      "source": [
        "<a href=\"https://colab.research.google.com/github/mongvuot336699/BT-matrix/blob/master/8_Combine_%26_Split_an_Array.ipynb\" target=\"_parent\"><img src=\"https://colab.research.google.com/assets/colab-badge.svg\" alt=\"Open In Colab\"/></a>"
      ]
    },
    {
      "cell_type": "code",
      "metadata": {
        "id": "4eSR8726SfXO",
        "colab_type": "code",
        "colab": {}
      },
      "source": [
        "import numpy as np"
      ],
      "execution_count": 0,
      "outputs": []
    },
    {
      "cell_type": "code",
      "metadata": {
        "id": "JfqSxqtoSwfn",
        "colab_type": "code",
        "colab": {}
      },
      "source": [
        "a1 = np.array([[1,2,3,4],[1,2,3,4]])\n",
        "a2 = np.array([[5,6,7,8],[5,6,7,8]])"
      ],
      "execution_count": 0,
      "outputs": []
    },
    {
      "cell_type": "code",
      "metadata": {
        "id": "hSHy1qonzvKQ",
        "colab_type": "code",
        "colab": {
          "base_uri": "https://localhost:8080/",
          "height": 119
        },
        "outputId": "63aeaeae-c470-4177-c11d-37fe10e3f3cd"
      },
      "source": [
        "# np.concatenate((a,b),axis = 0)\n",
        "cat = np.concatenate((a1,a2),axis = 0)\n",
        "cat2 = np.concatenate((a1,a2),axis = 1)\n",
        "print(cat)\n",
        "print(cat2)"
      ],
      "execution_count": 8,
      "outputs": [
        {
          "output_type": "stream",
          "text": [
            "[[1 2 3 4]\n",
            " [1 2 3 4]\n",
            " [5 6 7 8]\n",
            " [5 6 7 8]]\n",
            "[[1 2 3 4 5 6 7 8]\n",
            " [1 2 3 4 5 6 7 8]]\n"
          ],
          "name": "stdout"
        }
      ]
    },
    {
      "cell_type": "code",
      "metadata": {
        "id": "qy7H0zLs0RvO",
        "colab_type": "code",
        "colab": {
          "base_uri": "https://localhost:8080/",
          "height": 85
        },
        "outputId": "19fa18f1-bcf8-4542-de68-dfca99c32d15"
      },
      "source": [
        "# np.vstack((a,b)) = np.r_[a,b]\n",
        "cat = np.vstack((a1,a2))\n",
        "print(cat)"
      ],
      "execution_count": 10,
      "outputs": [
        {
          "output_type": "stream",
          "text": [
            "[[1 2 3 4]\n",
            " [1 2 3 4]\n",
            " [5 6 7 8]\n",
            " [5 6 7 8]]\n"
          ],
          "name": "stdout"
        }
      ]
    },
    {
      "cell_type": "code",
      "metadata": {
        "id": "fte2qIc_0jxk",
        "colab_type": "code",
        "colab": {
          "base_uri": "https://localhost:8080/",
          "height": 51
        },
        "outputId": "305c7d8e-5b16-47c5-8d2a-47b4e636b722"
      },
      "source": [
        "# np.hstack((a,b)) = np.c_[a,b]\n",
        "cat = np.hstack((a1,a2))\n",
        "print(cat)"
      ],
      "execution_count": 12,
      "outputs": [
        {
          "output_type": "stream",
          "text": [
            "[[1 2 3 4 5 6 7 8]\n",
            " [1 2 3 4 5 6 7 8]]\n"
          ],
          "name": "stdout"
        }
      ]
    },
    {
      "cell_type": "code",
      "metadata": {
        "id": "5NcZaRl805qD",
        "colab_type": "code",
        "colab": {
          "base_uri": "https://localhost:8080/",
          "height": 119
        },
        "outputId": "87d3dbfa-09b2-42a8-b289-b76bd04b00d7"
      },
      "source": [
        "a3 = np.arange(0,36).reshape(6,6)\n",
        "print(a3)"
      ],
      "execution_count": 16,
      "outputs": [
        {
          "output_type": "stream",
          "text": [
            "[[ 0  1  2  3  4  5]\n",
            " [ 6  7  8  9 10 11]\n",
            " [12 13 14 15 16 17]\n",
            " [18 19 20 21 22 23]\n",
            " [24 25 26 27 28 29]\n",
            " [30 31 32 33 34 35]]\n"
          ],
          "name": "stdout"
        }
      ]
    },
    {
      "cell_type": "code",
      "metadata": {
        "id": "uQcOL9SB1bYC",
        "colab_type": "code",
        "colab": {
          "base_uri": "https://localhost:8080/",
          "height": 289
        },
        "outputId": "765e4eef-1e4a-47ca-9725-75529557436e"
      },
      "source": [
        "# split the array vertically into n evenly spaced chunks \n",
        "arr1 = np.vsplit(a3,2)\n",
        "print(arr1)\n",
        "arr1 = np.hsplit(a3,2)\n",
        "print(arr1)\n",
        "# chia ma tran thanh cac phan theo tham so thu 2 (a3,...)"
      ],
      "execution_count": 24,
      "outputs": [
        {
          "output_type": "stream",
          "text": [
            "[array([[ 0,  1,  2,  3,  4,  5],\n",
            "       [ 6,  7,  8,  9, 10, 11],\n",
            "       [12, 13, 14, 15, 16, 17]]), array([[18, 19, 20, 21, 22, 23],\n",
            "       [24, 25, 26, 27, 28, 29],\n",
            "       [30, 31, 32, 33, 34, 35]])]\n",
            "[array([[ 0,  1,  2],\n",
            "       [ 6,  7,  8],\n",
            "       [12, 13, 14],\n",
            "       [18, 19, 20],\n",
            "       [24, 25, 26],\n",
            "       [30, 31, 32]]), array([[ 3,  4,  5],\n",
            "       [ 9, 10, 11],\n",
            "       [15, 16, 17],\n",
            "       [21, 22, 23],\n",
            "       [27, 28, 29],\n",
            "       [33, 34, 35]])]\n"
          ],
          "name": "stdout"
        }
      ]
    }
  ]
}