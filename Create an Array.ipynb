{
 "cells": [
  {
   "cell_type": "code",
   "execution_count": 2,
   "metadata": {},
   "outputs": [],
   "source": [
    "import numpy as np"
   ]
  },
  {
   "cell_type": "code",
   "execution_count": 4,
   "metadata": {},
   "outputs": [
    {
     "name": "stdout",
     "output_type": "stream",
     "text": [
      "[1 2 3 4 5]\n"
     ]
    }
   ],
   "source": [
    "arr = np.array([1,2,3,4,5])\n",
    "print(arr)"
   ]
  },
  {
   "cell_type": "code",
   "execution_count": 8,
   "metadata": {},
   "outputs": [
    {
     "name": "stdout",
     "output_type": "stream",
     "text": [
      "[1 2 3 4 5]\n"
     ]
    }
   ],
   "source": [
    "arr = np.array((1,2,3,4,5))\n",
    "print(arr)"
   ]
  },
  {
   "cell_type": "code",
   "execution_count": 10,
   "metadata": {},
   "outputs": [
    {
     "name": "stdout",
     "output_type": "stream",
     "text": [
      "[0 1 2 3 4 5 6 7 8 9]\n"
     ]
    }
   ],
   "source": [
    "arr = np.array(range(10))\n",
    "print(arr)"
   ]
  },
  {
   "cell_type": "code",
   "execution_count": 13,
   "metadata": {},
   "outputs": [
    {
     "name": "stdout",
     "output_type": "stream",
     "text": [
      "[[1 2 3]\n",
      " [4 5 6]]\n",
      "Data Type:int16\n"
     ]
    }
   ],
   "source": [
    "    arr = np.array([[1,2,3],[4,5,6]],dtype='i2')\n",
    "print(arr)\n",
    "print('Data Type:' + str(arr.dtype))"
   ]
  },
  {
   "cell_type": "code",
   "execution_count": 16,
   "metadata": {},
   "outputs": [
    {
     "name": "stdout",
     "output_type": "stream",
     "text": [
      "[ 0  3  6  9 12 15 18 21 24 27]\n"
     ]
    }
   ],
   "source": [
    "arr = np.arange(0,30,3)\n",
    "print(arr)"
   ]
  },
  {
   "cell_type": "markdown",
   "metadata": {},
   "source": [
    "np.linspace(start,stop,num_of_elements,endpoint=True, retstep = False)\n",
    "<ul>\n",
    "    <li>start</li>\n",
    "    <li>stop</li>\n",
    "    <li>num_of_elements</li>\n",
    "    <li>endpoint</li>\n",
    "    <li>retstep</li>\n",
    "</ul>"
   ]
  },
  {
   "cell_type": "code",
   "execution_count": 19,
   "metadata": {},
   "outputs": [
    {
     "name": "stdout",
     "output_type": "stream",
     "text": [
      "[0.    1.125 2.25  3.375 4.5   5.625 6.75  7.875]\n",
      "the step size is 1.125\n"
     ]
    }
   ],
   "source": [
    "arr, step_size = np.linspace(0,9,8,endpoint = False,retstep = True)\n",
    "print(arr)\n",
    "print(\"the step size is \"+ str(step_size))"
   ]
  },
  {
   "cell_type": "code",
   "execution_count": 21,
   "metadata": {},
   "outputs": [
    {
     "name": "stdout",
     "output_type": "stream",
     "text": [
      "[[0.35638339 0.3207441  0.24595045]\n",
      " [0.51840786 0.36640746 0.77547308]\n",
      " [0.72383213 0.84441569 0.31002395]]\n"
     ]
    }
   ],
   "source": [
    "arr = np.random.rand(3,3)\n",
    "print(arr)"
   ]
  },
  {
   "cell_type": "code",
   "execution_count": 25,
   "metadata": {},
   "outputs": [
    {
     "name": "stdout",
     "output_type": "stream",
     "text": [
      "[[0. 0. 0. 0.]\n",
      " [0. 0. 0. 0.]\n",
      " [0. 0. 0. 0.]]\n"
     ]
    }
   ],
   "source": [
    "zeros = np.zeros((3,4))\n",
    "print(zeros)"
   ]
  },
  {
   "cell_type": "code",
   "execution_count": 27,
   "metadata": {},
   "outputs": [
    {
     "name": "stdout",
     "output_type": "stream",
     "text": [
      "[[0.+0.j 0.+0.j]\n",
      " [0.+0.j 0.+0.j]\n",
      " [0.+0.j 0.+0.j]]\n",
      "data type:complex64\n"
     ]
    }
   ],
   "source": [
    "arr = np.array([[1,2],[3,4],[5,6]],dtype=np.complex64)\n",
    "zeros = np.zeros_like(arr)\n",
    "print(zeros)\n",
    "print(\"data type:\" + str(zeros.dtype))"
   ]
  },
  {
   "cell_type": "code",
   "execution_count": 30,
   "metadata": {},
   "outputs": [
    {
     "name": "stdout",
     "output_type": "stream",
     "text": [
      "[[1 1 1]\n",
      " [1 1 1]]\n",
      "data type :int32\n"
     ]
    }
   ],
   "source": [
    "# same zeros is ones\n",
    "arr = [[1,2,3],[4,5,6]]\n",
    "ones = np.ones_like(arr)\n",
    "print(ones)\n",
    "print(\"data type :\" + str(ones.dtype))"
   ]
  },
  {
   "cell_type": "code",
   "execution_count": 33,
   "metadata": {},
   "outputs": [
    {
     "name": "stdout",
     "output_type": "stream",
     "text": [
      "[[4.67296746e-307 1.69121096e-306 1.86921822e-306 1.11256817e-306]\n",
      " [1.06811422e-306 1.42417221e-306 1.11260619e-306 8.90094053e-307]\n",
      " [1.86919378e-306 1.06809792e-306 1.37962456e-306 1.69111861e-306]\n",
      " [1.78020169e-306 1.37961777e-306 7.56599807e-307 5.33590898e-322]]\n"
     ]
    }
   ],
   "source": [
    "empty = np.empty((4,4))\n",
    "print(empty)"
   ]
  },
  {
   "cell_type": "code",
   "execution_count": 35,
   "metadata": {},
   "outputs": [
    {
     "name": "stdout",
     "output_type": "stream",
     "text": [
      "[[1 2 3]\n",
      " [4 5 7]]\n",
      "data typy :int64\n"
     ]
    }
   ],
   "source": [
    "arr = np.array([[1,2,3],[4,5,7]],dtype = np.int64)\n",
    "empty = np.empty_like(arr)\n",
    "print(empty)\n",
    "print(\"data typy :\" + str(empty.dtype))"
   ]
  },
  {
   "cell_type": "code",
   "execution_count": 37,
   "metadata": {},
   "outputs": [
    {
     "name": "stdout",
     "output_type": "stream",
     "text": [
      "[[7 7 7 7]\n",
      " [7 7 7 7]\n",
      " [7 7 7 7]\n",
      " [7 7 7 7]]\n"
     ]
    }
   ],
   "source": [
    "arr = np.full((4,4),7)\n",
    "print(arr)"
   ]
  },
  {
   "cell_type": "code",
   "execution_count": 39,
   "metadata": {},
   "outputs": [
    {
     "name": "stdout",
     "output_type": "stream",
     "text": [
      "[[7. 7. 7.]\n",
      " [7. 7. 7.]]\n",
      "data type: float64\n"
     ]
    }
   ],
   "source": [
    "arr = np.array([[1,2,3],[4,5,6]],dtype = np.float64)\n",
    "full = np.full_like(arr,7)\n",
    "print(full)\n",
    "print(\"data type: \" + str(full.dtype))"
   ]
  },
  {
   "cell_type": "code",
   "execution_count": 40,
   "metadata": {},
   "outputs": [
    {
     "name": "stdout",
     "output_type": "stream",
     "text": [
      "[1 1 1 1 2 2 2 2 3 3 3 3 5 5 5 5 6 6 6 6 7 7 7 7]\n"
     ]
    }
   ],
   "source": [
    "arr = [[1,2,3],[5,6,7]]\n",
    "print(np.repeat(arr,4))"
   ]
  },
  {
   "cell_type": "code",
   "execution_count": 47,
   "metadata": {},
   "outputs": [
    {
     "name": "stdout",
     "output_type": "stream",
     "text": [
      "[[1 1 1 2 2 2 3 3 3]\n",
      " [4 4 4 5 5 5 6 6 6]]\n",
      "[[1 2 3]\n",
      " [1 2 3]\n",
      " [1 2 3]\n",
      " [4 5 6]\n",
      " [4 5 6]\n",
      " [4 5 6]]\n"
     ]
    }
   ],
   "source": [
    "arr = [[1,2,3],[4,5,6]]\n",
    "print(np.repeat(arr,3,axis = 1)) # truc x = 1\n",
    "print(np.repeat(arr,3,axis = 0)) # truc y = 0 "
   ]
  },
  {
   "cell_type": "code",
   "execution_count": 49,
   "metadata": {},
   "outputs": [
    {
     "name": "stdout",
     "output_type": "stream",
     "text": [
      "[[1. 0. 0. 0. 0.]\n",
      " [0. 1. 0. 0. 0.]\n",
      " [0. 0. 1. 0. 0.]\n",
      " [0. 0. 0. 1. 0.]\n",
      " [0. 0. 0. 0. 1.]]\n"
     ]
    }
   ],
   "source": [
    "identity_matrix = np.eye(5)\n",
    "print(identity_matrix)"
   ]
  },
  {
   "cell_type": "code",
   "execution_count": 51,
   "metadata": {},
   "outputs": [
    {
     "name": "stdout",
     "output_type": "stream",
     "text": [
      "[[0. 0. 0. 0. 0.]\n",
      " [1. 0. 0. 0. 0.]\n",
      " [0. 1. 0. 0. 0.]\n",
      " [0. 0. 1. 0. 0.]\n",
      " [0. 0. 0. 1. 0.]]\n"
     ]
    }
   ],
   "source": [
    "i_matrix = np.eye(5,k = -1)\n",
    "print(i_matrix)"
   ]
  },
  {
   "cell_type": "markdown",
   "metadata": {},
   "source": [
    "<h4>Matrix diagonal <h4>\n",
    "   "
   ]
  },
  {
   "cell_type": "code",
   "execution_count": 53,
   "metadata": {},
   "outputs": [
    {
     "name": "stdout",
     "output_type": "stream",
     "text": [
      "[[0.30989983 0.98768787 0.9888516  0.61589058 0.94164277]\n",
      " [0.69114208 0.08441626 0.96858753 0.69866574 0.10587861]\n",
      " [0.50369649 0.82542628 0.85410352 0.46214284 0.29942491]\n",
      " [0.2674878  0.02891189 0.77922328 0.39493976 0.93503465]\n",
      " [0.45933936 0.86010108 0.31694516 0.89596397 0.96536959]]\n",
      "Value on the diagonal   [0.30989983 0.08441626 0.85410352 0.39493976 0.96536959]\n"
     ]
    }
   ],
   "source": [
    "arr = np.random.rand(5,5)\n",
    "print(arr)\n",
    "print(\"Value on the diagonal   \" + str(np.diag(arr))) # gia tri duong cheo"
   ]
  },
  {
   "cell_type": "code",
   "execution_count": 54,
   "metadata": {},
   "outputs": [
    {
     "name": "stdout",
     "output_type": "stream",
     "text": [
      "[[1 0 0 0 0 0]\n",
      " [0 2 0 0 0 0]\n",
      " [0 0 3 0 0 0]\n",
      " [0 0 0 4 0 0]\n",
      " [0 0 0 0 5 0]\n",
      " [0 0 0 0 0 6]]\n"
     ]
    }
   ],
   "source": [
    "arr = np.diag([1,2,3,4,5,6])\n",
    "print(arr)"
   ]
  }
 ],
 "metadata": {
  "kernelspec": {
   "display_name": "Python 3.7.4 32-bit",
   "language": "python",
   "name": "python37432bit93a5ce092f094316806a9dec9f6b8716"
  },
  "language_info": {
   "codemirror_mode": {
    "name": "ipython",
    "version": 3
   },
   "file_extension": ".py",
   "mimetype": "text/x-python",
   "name": "python",
   "nbconvert_exporter": "python",
   "pygments_lexer": "ipython3",
   "version": "3.7.4"
  }
 },
 "nbformat": 4,
 "nbformat_minor": 4
}
